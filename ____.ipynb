{
 "cells": [
  {
   "cell_type": "markdown",
   "metadata": {},
   "source": [
    "# 数字识别比赛调试环境"
   ]
  },
  {
   "cell_type": "markdown",
   "metadata": {},
   "source": [
    "### 数据集上传\n",
    "\n",
    "1、在实验平台中下载实验数据文件`data.zip`\n",
    "\n",
    "2、在jupyter环境中上传数据文件\n",
    "\n",
    "3、运行`! unzip data.zip`\n",
    "\n",
    "4、将数据集放置在根目录下，与当前文档同级"
   ]
  },
  {
   "cell_type": "code",
   "execution_count": 2,
   "metadata": {},
   "outputs": [
    {
     "name": "stdout",
     "output_type": "stream",
     "text": [
      "torch: 1.0.0\n",
      "torchvision: 0.2.1\n"
     ]
    }
   ],
   "source": [
    "# 初始化工作\n",
    "import torch\n",
    "import torchvision\n",
    "import torch.nn as nn\n",
    "import torch.optim as optim\n",
    "from torchvision import transforms\n",
    "from torch.utils.data import Dataset\n",
    "import os\n",
    "from PIL import Image\n",
    "import torch.nn.functional as F\n",
    "\n",
    "print('torch: ', torch.__version__, sep='')\n",
    "print('torchvision: ', torchvision.__version__, sep='')"
   ]
  },
  {
   "cell_type": "code",
   "execution_count": null,
   "metadata": {},
   "outputs": [],
   "source": [
    "# 自定义数据集类型\n",
    "class MnistDataset(Dataset):\n",
    "    def __init__(self, root, transform=None):\n",
    "        self.root = root\n",
    "        self.images = [os.path.join(self.root, path) for path in os.listdir(self.root) if path.endswith('bmp')]\n",
    "        self.transform = transform\n",
    "\n",
    "    def __len__(self):\n",
    "        return len(self.images)\n",
    "\n",
    "    def __getitem__(self, item):\n",
    "        image_path = self.images[item]  # 图像索引，获取单张图像路径\n",
    "        image = Image.open(image_path)\n",
    "        _, image_name = os.path.split(image_path)\n",
    "        label = image_name.split('.')[-2]\n",
    "        label = int(label[-1])\n",
    "        if self.transform is not None:\n",
    "            image = self.transform(image)\n",
    "        else:\n",
    "            image = transforms.ToTensor()(image)\n",
    "        return image, label"
   ]
  },
  {
   "cell_type": "code",
   "execution_count": null,
   "metadata": {},
   "outputs": [],
   "source": [
    "# 网络定义（3层全链接网络）\n",
    "# class Net(nn.Module):\n",
    "#     def __init__(self):\n",
    "#         super(Net, self).__init__()\n",
    "#         self.fc1 = nn.Linear(784, 512)\n",
    "#         self.fc2 = nn.Linear(512, 256)\n",
    "#         self.fc3 = nn.Linear(256, 10)\n",
    "\n",
    "#     def forward(self, x):\n",
    "#         x = x.view(-1, 784)\n",
    "#         x = torch.relu(self.fc1(x))\n",
    "#         x = torch.relu(self.fc2(x))\n",
    "#         x = self.fc3(x)\n",
    "#         return x\n",
    "class Net(nn.Module):\n",
    "    def __init__(self):\n",
    "        super(Net, self).__init__()\n",
    "        self.conv1 = nn.Conv2d(1, 10, kernel_size=5)\n",
    "        self.conv2 = nn.Conv2d(10, 20, kernel_size=5)\n",
    "        self.conv2_drop = nn.Dropout2d()\n",
    "        self.fc1 = nn.Linear(320, 50)\n",
    "        self.fc2 = nn.Linear(50, 10)\n",
    "    def forward(self, x):\n",
    "        x = F.relu(F.max_pool2d(self.conv1(x), 2))\n",
    "        x = F.relu(F.max_pool2d(self.conv2_drop(self.conv2(x)), 2))\n",
    "        x = x.view(-1, 320)\n",
    "        x = F.relu(self.fc1(x))\n",
    "        x = F.dropout(x, training=self.training)\n",
    "        x = self.fc2(x)\n",
    "        return F.log_softmax(x)"
   ]
  },
  {
   "cell_type": "code",
   "execution_count": null,
   "metadata": {},
   "outputs": [],
   "source": [
    "# 加载数据集\n",
    "transform = transforms.Compose([\n",
    "    transforms.ToTensor(),\n",
    "    transforms.Normalize((0.1307,), (0.3081,))\n",
    "])\n",
    "\n",
    "train_dataset = MnistDataset('./train', transform=transform)\n",
    "test_dataset = MnistDataset('./test', transform=transform)\n",
    "\n",
    "# 如出现“out of memory”的报错信息，可减小batch_size或resize\n",
    "train_loader = torch.utils.data.DataLoader(train_dataset, batch_size=64, shuffle=True)\n",
    "test_loader = torch.utils.data.DataLoader(test_dataset, batch_size=1000, shuffle=False)"
   ]
  },
  {
   "cell_type": "code",
   "execution_count": null,
   "metadata": {},
   "outputs": [],
   "source": [
    "# 初始化模型和优化器\n",
    "model = Net()\n",
    "optimizer = optim.SGD(model.parameters(), lr=0.01, momentum=0.5)"
   ]
  },
  {
   "cell_type": "markdown",
   "metadata": {},
   "source": [
    "### 训练"
   ]
  },
  {
   "cell_type": "code",
   "execution_count": null,
   "metadata": {},
   "outputs": [],
   "source": [
    "# 训练模型\n",
    "def train(epoch):\n",
    "    model.train()\n",
    "    for batch_idx, (data, target) in enumerate(train_loader):\n",
    "        optimizer.zero_grad()\n",
    "        output = model(data)\n",
    "        loss = nn.functional.cross_entropy(output, target)\n",
    "        loss.backward()\n",
    "        optimizer.step()\n",
    "        if batch_idx % 10 == 0:\n",
    "            print('Train Epoch: {} [{}/{} ({:.0f}%)]\\tLoss: {:.6f}'.format(\n",
    "                epoch, batch_idx * len(data), len(train_loader.dataset),\n",
    "                100. * batch_idx / len(train_loader), loss.item()))"
   ]
  },
  {
   "cell_type": "code",
   "execution_count": null,
   "metadata": {},
   "outputs": [],
   "source": [
    "# 测试模型\n",
    "def test():\n",
    "    model.eval()\n",
    "    test_loss = 0\n",
    "    correct = 0\n",
    "    with torch.no_grad():\n",
    "        for data, target in test_loader:\n",
    "            output = model(data)\n",
    "            test_loss += nn.functional.cross_entropy(output, target, reduction='sum').item()\n",
    "            pred = output.argmax(dim=1, keepdim=True)\n",
    "            correct += pred.eq(target.view_as(pred)).sum().item()\n",
    "    test_loss /= len(test_loader.dataset)\n",
    "    accuracy = 100. * correct / len(test_loader.dataset)\n",
    "    print('Test set: Average loss: {:.4f}, Accuracy: {}/{} ({:.0f}%)'.format(\n",
    "        test_loss, correct, len(test_loader.dataset), accuracy))"
   ]
  },
  {
   "cell_type": "code",
   "execution_count": null,
   "metadata": {},
   "outputs": [],
   "source": [
    "# 训练5轮\n",
    "for epoch in range(1, 5):\n",
    "    train(epoch)\n",
    "    test()\n",
    "torch.save(model, './model.pkl')"
   ]
  },
  {
   "cell_type": "markdown",
   "metadata": {},
   "source": [
    "### 保存模型"
   ]
  },
  {
   "cell_type": "code",
   "execution_count": null,
   "metadata": {},
   "outputs": [],
   "source": [
    "# 保存模型到文件 model.pkl\n",
    "torch.save(model, './model.pkl')"
   ]
  },
  {
   "cell_type": "markdown",
   "metadata": {},
   "source": [
    "## 上传比赛系统"
   ]
  },
  {
   "cell_type": "markdown",
   "metadata": {},
   "source": [
    "1、上传文件应为一个zip压缩包，压缩包解压有应直接是文件而不是文件夹（通过直接选中文件进行zip压缩，而不是压缩文件夹）；\n",
    "\n",
    "2、压缩包中至少包含训练数据的模型文件（model.pkl）和主程序（main.py）；\n",
    "\n",
    "3、比赛系统会自动解压缩，而后自动运行main.py文件，运行后生成包含识别结果的result.csv文件，系统通过此文件与标准文件对比得出识别率；\n",
    "\n",
    "4、主程序（main.py）中应最少载入模型文件（model.pkl），并通过模型对test文件夹中的图像文件进行识别，而后生成表格文件result.csv，表格中第一列为文件名（不含后缀）第二列为识别结果（0~9）"
   ]
  },
  {
   "cell_type": "markdown",
   "metadata": {},
   "source": [
    "上传main.py文件示例"
   ]
  },
  {
   "cell_type": "code",
   "execution_count": null,
   "metadata": {},
   "outputs": [],
   "source": [
    "# 用于上传作业系统\n",
    "# main.py\n",
    "import torch\n",
    "import torchvision\n",
    "from torchvision import transforms\n",
    "from PIL import Image\n",
    "import os\n",
    "\n",
    "\n",
    "# 答应当前库版本（训练环境中的库版本应保持与比赛环境相同）\n",
    "print('torch: ', torch.__version__, sep='')\n",
    "print('torchvision: ', torchvision.__version__, sep='')\n",
    "\n",
    "\n",
    "# 定义神经网络模型，要与训练环境（本环境）中的一致\n",
    "class Net(torch.nn.Module):\n",
    "    def __init__(self):\n",
    "        super(Net, self).__init__()\n",
    "        self.fc1 = torch.nn.Linear(784, 512)\n",
    "        self.fc2 = torch.nn.Linear(512, 256)\n",
    "        self.fc3 = torch.nn.Linear(256, 10)\n",
    "\n",
    "    def forward(self, x):\n",
    "        x = x.view(-1, 784)\n",
    "        x = torch.relu(self.fc1(x))\n",
    "        x = torch.relu(self.fc2(x))\n",
    "        x = self.fc3(x)\n",
    "        return x\n",
    "    \n",
    "    \n",
    "# 与训练欢迎一致\n",
    "transform = transforms.Compose([\n",
    "    transforms.ToTensor(),\n",
    "    transforms.Normalize((0.1307,), (0.3081,))\n",
    "])\n",
    "\n",
    "# 读取训练好的模型\n",
    "model = torch.load('./model.pkl')\n",
    "\n",
    "# 生成测试结果文件\n",
    "path = './test'\n",
    "# 保存结果\n",
    "answer = []\n",
    "# 循环文件，识别并保存到answer中\n",
    "for f in (os.path.join(path, file) for file in os.listdir(path) if file.endswith('bmp')):\n",
    "    img = Image.open(f)\n",
    "    f = f.split('/')[-1]\n",
    "    image = transform(img).unsqueeze(0)\n",
    "    y = model(image)\n",
    "    ret = torch.argmax(y, dim=1)\n",
    "    # 打印每一个识别结果\n",
    "    # print(int(f.strip('.bmp')), int(ret))\n",
    "    answer.append((int(f.strip('.bmp')), int(ret)))\n",
    "# 排序\n",
    "answer = sorted(answer, key=lambda a: a[0])\n",
    "# 写入结果文件\n",
    "with open('result.csv', 'w') as f:\n",
    "    for k, v in answer:\n",
    "        print(\"%d,%s\"%(k, v), file=f)"
   ]
  },
  {
   "cell_type": "code",
   "execution_count": null,
   "metadata": {},
   "outputs": [],
   "source": [
    "# 根据生成识别文件的代码，自行编写main.py文件，要求文件可生成结果文件result.csv\n",
    "# 已知的坑：main.py中需增加模型类的定义\n",
    "\n",
    "# 测试main.py生成result.csv\n",
    "!python main.py\n",
    "# 生成后自行验证"
   ]
  }
 ],
 "metadata": {
  "kernelspec": {
   "display_name": "Python 3",
   "language": "python",
   "name": "python3"
  },
  "language_info": {
   "codemirror_mode": {
    "name": "ipython",
    "version": 3
   },
   "file_extension": ".py",
   "mimetype": "text/x-python",
   "name": "python",
   "nbconvert_exporter": "python",
   "pygments_lexer": "ipython3",
   "version": "3.6.7"
  }
 },
 "nbformat": 4,
 "nbformat_minor": 4
}
